{
 "cells": [
  {
   "cell_type": "markdown",
   "metadata": {
    "application/vnd.databricks.v1+cell": {
     "cellMetadata": {},
     "inputWidgets": {},
     "nuid": "160169b6-a8cf-4ac4-8d2e-66f0c87a3642",
     "showTitle": false,
     "title": ""
    }
   },
   "source": [
    "Morales Hernández Bruno Ricardo\n",
    "\n",
    "Laboratorio 4: DataBricks"
   ]
  },
  {
   "cell_type": "code",
   "execution_count": 0,
   "metadata": {
    "application/vnd.databricks.v1+cell": {
     "cellMetadata": {
      "byteLimit": 2048000,
      "rowLimit": 10000
     },
     "inputWidgets": {},
     "nuid": "8a6723d6-bb77-429c-90a1-14a674080d94",
     "showTitle": true,
     "title": "Dataset cargado."
    }
   },
   "outputs": [
    {
     "output_type": "display_data",
     "data": {
      "text/html": [
       "<style scoped>\n",
       "  .table-result-container {\n",
       "    max-height: 300px;\n",
       "    overflow: auto;\n",
       "  }\n",
       "  table, th, td {\n",
       "    border: 1px solid black;\n",
       "    border-collapse: collapse;\n",
       "  }\n",
       "  th, td {\n",
       "    padding: 5px;\n",
       "  }\n",
       "  th {\n",
       "    text-align: left;\n",
       "  }\n",
       "</style><div class='table-result-container'><table class='table-result'><thead style='background-color: white'><tr><th>path</th><th>name</th><th>size</th><th>modificationTime</th></tr></thead><tbody><tr><td>dbfs:/FileStore/shared_uploads/bmoralesh1700@alumno.ipn.mx/Mall_Customers.csv</td><td>Mall_Customers.csv</td><td>4286</td><td>1729382230000</td></tr></tbody></table></div>"
      ]
     },
     "metadata": {
      "application/vnd.databricks.v1+output": {
       "addedWidgets": {},
       "aggData": [],
       "aggError": "",
       "aggOverflow": false,
       "aggSchema": [],
       "aggSeriesLimitReached": false,
       "aggType": "",
       "arguments": {},
       "columnCustomDisplayInfos": {},
       "data": [
        [
         "dbfs:/FileStore/shared_uploads/bmoralesh1700@alumno.ipn.mx/Mall_Customers.csv",
         "Mall_Customers.csv",
         4286,
         1729382230000
        ]
       ],
       "datasetInfos": [],
       "dbfsResultPath": null,
       "isJsonSchema": true,
       "metadata": {
        "isDbfsCommandResult": false
       },
       "overflow": false,
       "plotOptions": {
        "customPlotOptions": {},
        "displayType": "table",
        "pivotAggregation": null,
        "pivotColumns": null,
        "xColumns": null,
        "yColumns": null
       },
       "removedWidgets": [],
       "schema": [
        {
         "metadata": "{}",
         "name": "path",
         "type": "\"string\""
        },
        {
         "metadata": "{}",
         "name": "name",
         "type": "\"string\""
        },
        {
         "metadata": "{}",
         "name": "size",
         "type": "\"long\""
        },
        {
         "metadata": "{}",
         "name": "modificationTime",
         "type": "\"long\""
        }
       ],
       "type": "table"
      }
     },
     "output_type": "display_data"
    }
   ],
   "source": [
    "%fs ls dbfs:/FileStore/shared_uploads/bmoralesh1700@alumno.ipn.mx"
   ]
  },
  {
   "cell_type": "code",
   "execution_count": 0,
   "metadata": {
    "application/vnd.databricks.v1+cell": {
     "cellMetadata": {
      "byteLimit": 2048000,
      "rowLimit": 10000
     },
     "inputWidgets": {},
     "nuid": "ee543598-3e67-4e4c-af87-20b96649af7e",
     "showTitle": true,
     "title": "Cargar el dataset."
    }
   },
   "outputs": [],
   "source": [
    "df1 = spark.read.format(\"csv\").option(\"header\", \"true\").load(\"dbfs:/FileStore/shared_uploads/bmoralesh1700@alumno.ipn.mx/Mall_Customers.csv\")"
   ]
  },
  {
   "cell_type": "code",
   "execution_count": 0,
   "metadata": {
    "application/vnd.databricks.v1+cell": {
     "cellMetadata": {
      "byteLimit": 2048000,
      "rowLimit": 10000
     },
     "inputWidgets": {},
     "nuid": "1f78bca1-bdd4-4155-a0f4-fa2e644fbc11",
     "showTitle": true,
     "title": "Crear una vista temporal en PySpark"
    }
   },
   "outputs": [],
   "source": [
    "df1.createOrReplaceTempView(\"clientes_temp\")"
   ]
  },
  {
   "cell_type": "code",
   "execution_count": 0,
   "metadata": {
    "application/vnd.databricks.v1+cell": {
     "cellMetadata": {
      "byteLimit": 2048000,
      "rowLimit": 10000
     },
     "inputWidgets": {},
     "nuid": "030a3860-d87b-4283-997b-312c44f948cb",
     "showTitle": true,
     "title": "4 consultas tipo spark.sql."
    }
   },
   "outputs": [
    {
     "output_type": "stream",
     "name": "stdout",
     "output_type": "stream",
     "text": [
      "+----------+------+---+------------------+----------------------+\n|CustomerID| Genre|Age|Annual Income (k$)|Spending Score (1-100)|\n+----------+------+---+------------------+----------------------+\n|      0001|  Male| 19|                15|                    39|\n|      0002|  Male| 21|                15|                    81|\n|      0003|Female| 20|                16|                     6|\n|      0004|Female| 23|                16|                    77|\n|      0005|Female| 31|                17|                    40|\n|      0006|Female| 22|                17|                    76|\n|      0007|Female| 35|                18|                     6|\n|      0008|Female| 23|                18|                    94|\n|      0009|  Male| 64|                19|                     3|\n|      0010|Female| 30|                19|                    72|\n+----------+------+---+------------------+----------------------+\n\n+------+-------------+\n| Genre|num_customers|\n+------+-------------+\n|Female|          112|\n|  Male|           88|\n+------+-------------+\n\n+----------+------+---+------------------+----------------------+\n|CustomerID| Genre|Age|Annual Income (k$)|Spending Score (1-100)|\n+----------+------+---+------------------+----------------------+\n|      0002|  Male| 21|                15|                    81|\n|      0008|Female| 23|                18|                    94|\n|      0012|Female| 35|                19|                    99|\n|      0020|Female| 35|                23|                    98|\n|      0026|  Male| 29|                28|                    82|\n|      0030|Female| 23|                29|                    87|\n|      0034|  Male| 18|                33|                    92|\n|      0036|Female| 21|                33|                    81|\n|      0042|  Male| 24|                38|                    92|\n|      0124|  Male| 39|                69|                    91|\n|      0128|  Male| 40|                71|                    95|\n|      0136|Female| 29|                73|                    88|\n|      0142|  Male| 32|                75|                    93|\n|      0144|Female| 32|                76|                    87|\n|      0146|  Male| 28|                77|                    97|\n|      0150|  Male| 34|                78|                    90|\n|      0152|  Male| 39|                78|                    88|\n|      0156|Female| 27|                78|                    89|\n|      0162|Female| 29|                79|                    83|\n|      0164|Female| 31|                81|                    93|\n+----------+------+---+------------------+----------------------+\nonly showing top 20 rows\n\n+----------+\n|max_income|\n+----------+\n|       137|\n+----------+\n\n"
     ]
    }
   ],
   "source": [
    "# Primeras 10 observaciones del dataset.\n",
    "spark.sql(\"SELECT * FROM clientes_temp LIMIT 10\").show()\n",
    "\n",
    "# Número de clientes por género.\n",
    "spark.sql(\"SELECT Genre, COUNT(*) as num_customers FROM clientes_temp GROUP BY Genre\").show()\n",
    "\n",
    "# Listar los clientes con \"Spending Score\" mayor a 80:\n",
    "spark.sql(\"SELECT * FROM clientes_temp WHERE CAST(`Spending Score (1-100)` AS INT) > 80\").show()\n",
    "\n",
    "# Obtener el ingreso anual máximo de los clientes.\n",
    "spark.sql(\"SELECT MAX(CAST(`Annual Income (k$)` AS INT)) as max_income FROM clientes_temp\").show()\n"
   ]
  },
  {
   "cell_type": "code",
   "execution_count": 0,
   "metadata": {
    "application/vnd.databricks.v1+cell": {
     "cellMetadata": {
      "byteLimit": 2048000,
      "implicitDf": true,
      "rowLimit": 10000
     },
     "inputWidgets": {},
     "nuid": "c8106fea-5c51-413b-8b54-db839543e418",
     "showTitle": true,
     "title": "Modo SQL del notebook."
    }
   },
   "outputs": [
    {
     "output_type": "display_data",
     "data": {
      "text/html": [
       "<style scoped>\n",
       "  .table-result-container {\n",
       "    max-height: 300px;\n",
       "    overflow: auto;\n",
       "  }\n",
       "  table, th, td {\n",
       "    border: 1px solid black;\n",
       "    border-collapse: collapse;\n",
       "  }\n",
       "  th, td {\n",
       "    padding: 5px;\n",
       "  }\n",
       "  th {\n",
       "    text-align: left;\n",
       "  }\n",
       "</style><div class='table-result-container'><table class='table-result'><thead style='background-color: white'><tr><th>CustomerID</th><th>Genre</th><th>Age</th><th>Annual Income (k$)</th><th>Spending Score (1-100)</th></tr></thead><tbody><tr><td>0001</td><td>Male</td><td>19</td><td>15</td><td>39</td></tr><tr><td>0002</td><td>Male</td><td>21</td><td>15</td><td>81</td></tr><tr><td>0003</td><td>Female</td><td>20</td><td>16</td><td>6</td></tr><tr><td>0004</td><td>Female</td><td>23</td><td>16</td><td>77</td></tr><tr><td>0005</td><td>Female</td><td>31</td><td>17</td><td>40</td></tr><tr><td>0006</td><td>Female</td><td>22</td><td>17</td><td>76</td></tr><tr><td>0007</td><td>Female</td><td>35</td><td>18</td><td>6</td></tr><tr><td>0008</td><td>Female</td><td>23</td><td>18</td><td>94</td></tr><tr><td>0009</td><td>Male</td><td>64</td><td>19</td><td>3</td></tr><tr><td>0010</td><td>Female</td><td>30</td><td>19</td><td>72</td></tr></tbody></table></div>"
      ]
     },
     "metadata": {
      "application/vnd.databricks.v1+output": {
       "addedWidgets": {},
       "aggData": [],
       "aggError": "",
       "aggOverflow": false,
       "aggSchema": [],
       "aggSeriesLimitReached": false,
       "aggType": "",
       "arguments": {},
       "columnCustomDisplayInfos": {},
       "data": [
        [
         "0001",
         "Male",
         "19",
         "15",
         "39"
        ],
        [
         "0002",
         "Male",
         "21",
         "15",
         "81"
        ],
        [
         "0003",
         "Female",
         "20",
         "16",
         "6"
        ],
        [
         "0004",
         "Female",
         "23",
         "16",
         "77"
        ],
        [
         "0005",
         "Female",
         "31",
         "17",
         "40"
        ],
        [
         "0006",
         "Female",
         "22",
         "17",
         "76"
        ],
        [
         "0007",
         "Female",
         "35",
         "18",
         "6"
        ],
        [
         "0008",
         "Female",
         "23",
         "18",
         "94"
        ],
        [
         "0009",
         "Male",
         "64",
         "19",
         "3"
        ],
        [
         "0010",
         "Female",
         "30",
         "19",
         "72"
        ]
       ],
       "datasetInfos": [],
       "dbfsResultPath": null,
       "isJsonSchema": true,
       "metadata": {},
       "overflow": false,
       "plotOptions": {
        "customPlotOptions": {},
        "displayType": "table",
        "pivotAggregation": null,
        "pivotColumns": null,
        "xColumns": null,
        "yColumns": null
       },
       "removedWidgets": [],
       "schema": [
        {
         "metadata": "{}",
         "name": "CustomerID",
         "type": "\"string\""
        },
        {
         "metadata": "{}",
         "name": "Genre",
         "type": "\"string\""
        },
        {
         "metadata": "{}",
         "name": "Age",
         "type": "\"string\""
        },
        {
         "metadata": "{}",
         "name": "Annual Income (k$)",
         "type": "\"string\""
        },
        {
         "metadata": "{}",
         "name": "Spending Score (1-100)",
         "type": "\"string\""
        }
       ],
       "type": "table"
      }
     },
     "output_type": "display_data"
    }
   ],
   "source": [
    "%sql\n",
    "SELECT * FROM clientes_temp LIMIT 10;"
   ]
  },
  {
   "cell_type": "code",
   "execution_count": 0,
   "metadata": {
    "application/vnd.databricks.v1+cell": {
     "cellMetadata": {
      "byteLimit": 2048000,
      "implicitDf": true,
      "rowLimit": 10000
     },
     "inputWidgets": {},
     "nuid": "ddf7f9f2-9575-41b1-82c2-637c314230e6",
     "showTitle": false,
     "title": ""
    }
   },
   "outputs": [
    {
     "output_type": "display_data",
     "data": {
      "text/html": [
       "<style scoped>\n",
       "  .table-result-container {\n",
       "    max-height: 300px;\n",
       "    overflow: auto;\n",
       "  }\n",
       "  table, th, td {\n",
       "    border: 1px solid black;\n",
       "    border-collapse: collapse;\n",
       "  }\n",
       "  th, td {\n",
       "    padding: 5px;\n",
       "  }\n",
       "  th {\n",
       "    text-align: left;\n",
       "  }\n",
       "</style><div class='table-result-container'><table class='table-result'><thead style='background-color: white'><tr><th>Genre</th><th>num_customers</th></tr></thead><tbody><tr><td>Female</td><td>112</td></tr><tr><td>Male</td><td>88</td></tr></tbody></table></div>"
      ]
     },
     "metadata": {
      "application/vnd.databricks.v1+output": {
       "addedWidgets": {},
       "aggData": [],
       "aggError": "",
       "aggOverflow": false,
       "aggSchema": [],
       "aggSeriesLimitReached": false,
       "aggType": "",
       "arguments": {},
       "columnCustomDisplayInfos": {},
       "data": [
        [
         "Female",
         112
        ],
        [
         "Male",
         88
        ]
       ],
       "datasetInfos": [],
       "dbfsResultPath": null,
       "isJsonSchema": true,
       "metadata": {},
       "overflow": false,
       "plotOptions": {
        "customPlotOptions": {},
        "displayType": "table",
        "pivotAggregation": null,
        "pivotColumns": null,
        "xColumns": null,
        "yColumns": null
       },
       "removedWidgets": [],
       "schema": [
        {
         "metadata": "{}",
         "name": "Genre",
         "type": "\"string\""
        },
        {
         "metadata": "{}",
         "name": "num_customers",
         "type": "\"long\""
        }
       ],
       "type": "table"
      }
     },
     "output_type": "display_data"
    }
   ],
   "source": [
    "%sql\n",
    "SELECT Genre, COUNT(*) as num_customers FROM clientes_temp GROUP BY Genre;"
   ]
  },
  {
   "cell_type": "code",
   "execution_count": 0,
   "metadata": {
    "application/vnd.databricks.v1+cell": {
     "cellMetadata": {
      "byteLimit": 2048000,
      "implicitDf": true,
      "rowLimit": 10000
     },
     "inputWidgets": {},
     "nuid": "a9c06c11-2438-4afe-b530-fff9e94c57c9",
     "showTitle": false,
     "title": ""
    }
   },
   "outputs": [
    {
     "output_type": "display_data",
     "data": {
      "text/html": [
       "<style scoped>\n",
       "  .table-result-container {\n",
       "    max-height: 300px;\n",
       "    overflow: auto;\n",
       "  }\n",
       "  table, th, td {\n",
       "    border: 1px solid black;\n",
       "    border-collapse: collapse;\n",
       "  }\n",
       "  th, td {\n",
       "    padding: 5px;\n",
       "  }\n",
       "  th {\n",
       "    text-align: left;\n",
       "  }\n",
       "</style><div class='table-result-container'><table class='table-result'><thead style='background-color: white'><tr><th>CustomerID</th><th>Genre</th><th>Age</th><th>Annual Income (k$)</th><th>Spending Score (1-100)</th></tr></thead><tbody><tr><td>0002</td><td>Male</td><td>21</td><td>15</td><td>81</td></tr><tr><td>0008</td><td>Female</td><td>23</td><td>18</td><td>94</td></tr><tr><td>0012</td><td>Female</td><td>35</td><td>19</td><td>99</td></tr><tr><td>0020</td><td>Female</td><td>35</td><td>23</td><td>98</td></tr><tr><td>0026</td><td>Male</td><td>29</td><td>28</td><td>82</td></tr><tr><td>0030</td><td>Female</td><td>23</td><td>29</td><td>87</td></tr><tr><td>0034</td><td>Male</td><td>18</td><td>33</td><td>92</td></tr><tr><td>0036</td><td>Female</td><td>21</td><td>33</td><td>81</td></tr><tr><td>0042</td><td>Male</td><td>24</td><td>38</td><td>92</td></tr><tr><td>0124</td><td>Male</td><td>39</td><td>69</td><td>91</td></tr><tr><td>0128</td><td>Male</td><td>40</td><td>71</td><td>95</td></tr><tr><td>0136</td><td>Female</td><td>29</td><td>73</td><td>88</td></tr><tr><td>0142</td><td>Male</td><td>32</td><td>75</td><td>93</td></tr><tr><td>0144</td><td>Female</td><td>32</td><td>76</td><td>87</td></tr><tr><td>0146</td><td>Male</td><td>28</td><td>77</td><td>97</td></tr><tr><td>0150</td><td>Male</td><td>34</td><td>78</td><td>90</td></tr><tr><td>0152</td><td>Male</td><td>39</td><td>78</td><td>88</td></tr><tr><td>0156</td><td>Female</td><td>27</td><td>78</td><td>89</td></tr><tr><td>0162</td><td>Female</td><td>29</td><td>79</td><td>83</td></tr><tr><td>0164</td><td>Female</td><td>31</td><td>81</td><td>93</td></tr><tr><td>0168</td><td>Female</td><td>33</td><td>86</td><td>95</td></tr><tr><td>0174</td><td>Male</td><td>36</td><td>87</td><td>92</td></tr><tr><td>0176</td><td>Female</td><td>30</td><td>88</td><td>86</td></tr><tr><td>0180</td><td>Male</td><td>35</td><td>93</td><td>90</td></tr><tr><td>0182</td><td>Female</td><td>32</td><td>97</td><td>86</td></tr><tr><td>0184</td><td>Female</td><td>29</td><td>98</td><td>88</td></tr><tr><td>0186</td><td>Male</td><td>30</td><td>99</td><td>97</td></tr><tr><td>0190</td><td>Female</td><td>36</td><td>103</td><td>85</td></tr><tr><td>0194</td><td>Female</td><td>38</td><td>113</td><td>91</td></tr><tr><td>0200</td><td>Male</td><td>30</td><td>137</td><td>83</td></tr></tbody></table></div>"
      ]
     },
     "metadata": {
      "application/vnd.databricks.v1+output": {
       "addedWidgets": {},
       "aggData": [],
       "aggError": "",
       "aggOverflow": false,
       "aggSchema": [],
       "aggSeriesLimitReached": false,
       "aggType": "",
       "arguments": {},
       "columnCustomDisplayInfos": {},
       "data": [
        [
         "0002",
         "Male",
         "21",
         "15",
         "81"
        ],
        [
         "0008",
         "Female",
         "23",
         "18",
         "94"
        ],
        [
         "0012",
         "Female",
         "35",
         "19",
         "99"
        ],
        [
         "0020",
         "Female",
         "35",
         "23",
         "98"
        ],
        [
         "0026",
         "Male",
         "29",
         "28",
         "82"
        ],
        [
         "0030",
         "Female",
         "23",
         "29",
         "87"
        ],
        [
         "0034",
         "Male",
         "18",
         "33",
         "92"
        ],
        [
         "0036",
         "Female",
         "21",
         "33",
         "81"
        ],
        [
         "0042",
         "Male",
         "24",
         "38",
         "92"
        ],
        [
         "0124",
         "Male",
         "39",
         "69",
         "91"
        ],
        [
         "0128",
         "Male",
         "40",
         "71",
         "95"
        ],
        [
         "0136",
         "Female",
         "29",
         "73",
         "88"
        ],
        [
         "0142",
         "Male",
         "32",
         "75",
         "93"
        ],
        [
         "0144",
         "Female",
         "32",
         "76",
         "87"
        ],
        [
         "0146",
         "Male",
         "28",
         "77",
         "97"
        ],
        [
         "0150",
         "Male",
         "34",
         "78",
         "90"
        ],
        [
         "0152",
         "Male",
         "39",
         "78",
         "88"
        ],
        [
         "0156",
         "Female",
         "27",
         "78",
         "89"
        ],
        [
         "0162",
         "Female",
         "29",
         "79",
         "83"
        ],
        [
         "0164",
         "Female",
         "31",
         "81",
         "93"
        ],
        [
         "0168",
         "Female",
         "33",
         "86",
         "95"
        ],
        [
         "0174",
         "Male",
         "36",
         "87",
         "92"
        ],
        [
         "0176",
         "Female",
         "30",
         "88",
         "86"
        ],
        [
         "0180",
         "Male",
         "35",
         "93",
         "90"
        ],
        [
         "0182",
         "Female",
         "32",
         "97",
         "86"
        ],
        [
         "0184",
         "Female",
         "29",
         "98",
         "88"
        ],
        [
         "0186",
         "Male",
         "30",
         "99",
         "97"
        ],
        [
         "0190",
         "Female",
         "36",
         "103",
         "85"
        ],
        [
         "0194",
         "Female",
         "38",
         "113",
         "91"
        ],
        [
         "0200",
         "Male",
         "30",
         "137",
         "83"
        ]
       ],
       "datasetInfos": [],
       "dbfsResultPath": null,
       "isJsonSchema": true,
       "metadata": {},
       "overflow": false,
       "plotOptions": {
        "customPlotOptions": {},
        "displayType": "table",
        "pivotAggregation": null,
        "pivotColumns": null,
        "xColumns": null,
        "yColumns": null
       },
       "removedWidgets": [],
       "schema": [
        {
         "metadata": "{}",
         "name": "CustomerID",
         "type": "\"string\""
        },
        {
         "metadata": "{}",
         "name": "Genre",
         "type": "\"string\""
        },
        {
         "metadata": "{}",
         "name": "Age",
         "type": "\"string\""
        },
        {
         "metadata": "{}",
         "name": "Annual Income (k$)",
         "type": "\"string\""
        },
        {
         "metadata": "{}",
         "name": "Spending Score (1-100)",
         "type": "\"string\""
        }
       ],
       "type": "table"
      }
     },
     "output_type": "display_data"
    }
   ],
   "source": [
    "%sql\n",
    "SELECT * FROM clientes_temp WHERE CAST(`Spending Score (1-100)` AS INT) > 80;"
   ]
  },
  {
   "cell_type": "code",
   "execution_count": 0,
   "metadata": {
    "application/vnd.databricks.v1+cell": {
     "cellMetadata": {
      "byteLimit": 2048000,
      "implicitDf": true,
      "rowLimit": 10000
     },
     "inputWidgets": {},
     "nuid": "077cd279-4a4b-4a47-9d4b-3fc2bad76dcd",
     "showTitle": false,
     "title": ""
    }
   },
   "outputs": [
    {
     "output_type": "display_data",
     "data": {
      "text/html": [
       "<style scoped>\n",
       "  .table-result-container {\n",
       "    max-height: 300px;\n",
       "    overflow: auto;\n",
       "  }\n",
       "  table, th, td {\n",
       "    border: 1px solid black;\n",
       "    border-collapse: collapse;\n",
       "  }\n",
       "  th, td {\n",
       "    padding: 5px;\n",
       "  }\n",
       "  th {\n",
       "    text-align: left;\n",
       "  }\n",
       "</style><div class='table-result-container'><table class='table-result'><thead style='background-color: white'><tr><th>max_income</th></tr></thead><tbody><tr><td>137</td></tr></tbody></table></div>"
      ]
     },
     "metadata": {
      "application/vnd.databricks.v1+output": {
       "addedWidgets": {},
       "aggData": [],
       "aggError": "",
       "aggOverflow": false,
       "aggSchema": [],
       "aggSeriesLimitReached": false,
       "aggType": "",
       "arguments": {},
       "columnCustomDisplayInfos": {},
       "data": [
        [
         137
        ]
       ],
       "datasetInfos": [],
       "dbfsResultPath": null,
       "isJsonSchema": true,
       "metadata": {},
       "overflow": false,
       "plotOptions": {
        "customPlotOptions": {},
        "displayType": "table",
        "pivotAggregation": null,
        "pivotColumns": null,
        "xColumns": null,
        "yColumns": null
       },
       "removedWidgets": [],
       "schema": [
        {
         "metadata": "{}",
         "name": "max_income",
         "type": "\"integer\""
        }
       ],
       "type": "table"
      }
     },
     "output_type": "display_data"
    }
   ],
   "source": [
    "%sql\n",
    "SELECT MAX(CAST(`Annual Income (k$)` AS INT)) as max_income FROM clientes_temp;"
   ]
  },
  {
   "cell_type": "code",
   "execution_count": 0,
   "metadata": {
    "application/vnd.databricks.v1+cell": {
     "cellMetadata": {
      "byteLimit": 2048000,
      "implicitDf": true,
      "rowLimit": 10000
     },
     "inputWidgets": {},
     "nuid": "63cfd007-368b-4557-ba2c-10cb194c6571",
     "showTitle": true,
     "title": "Crear una tabla temporal."
    }
   },
   "outputs": [
    {
     "output_type": "display_data",
     "data": {
      "text/html": [
       "<style scoped>\n",
       "  .table-result-container {\n",
       "    max-height: 300px;\n",
       "    overflow: auto;\n",
       "  }\n",
       "  table, th, td {\n",
       "    border: 1px solid black;\n",
       "    border-collapse: collapse;\n",
       "  }\n",
       "  th, td {\n",
       "    padding: 5px;\n",
       "  }\n",
       "  th {\n",
       "    text-align: left;\n",
       "  }\n",
       "</style><div class='table-result-container'><table class='table-result'><thead style='background-color: white'><tr></tr></thead><tbody></tbody></table></div>"
      ]
     },
     "metadata": {
      "application/vnd.databricks.v1+output": {
       "addedWidgets": {},
       "aggData": [],
       "aggError": "",
       "aggOverflow": false,
       "aggSchema": [],
       "aggSeriesLimitReached": false,
       "aggType": "",
       "arguments": {},
       "columnCustomDisplayInfos": {},
       "data": [],
       "datasetInfos": [],
       "dbfsResultPath": null,
       "isJsonSchema": true,
       "metadata": {},
       "overflow": false,
       "plotOptions": {
        "customPlotOptions": {},
        "displayType": "table",
        "pivotAggregation": null,
        "pivotColumns": null,
        "xColumns": null,
        "yColumns": null
       },
       "removedWidgets": [],
       "schema": [],
       "type": "table"
      }
     },
     "output_type": "display_data"
    }
   ],
   "source": [
    "%sql\n",
    "CREATE TEMPORARY VIEW clientes_temp_copy AS SELECT * FROM clientes_temp"
   ]
  },
  {
   "cell_type": "code",
   "execution_count": 0,
   "metadata": {
    "application/vnd.databricks.v1+cell": {
     "cellMetadata": {
      "byteLimit": 2048000,
      "rowLimit": 10000
     },
     "inputWidgets": {},
     "nuid": "d5c8b328-1c8c-481f-8773-4a7689d59fca",
     "showTitle": true,
     "title": "Hacer las consultas y gurdarlas en archivos Parquet."
    }
   },
   "outputs": [],
   "source": [
    "df_resultado1 = spark.sql(\"SELECT * FROM clientes_temp LIMIT 10\")\n",
    "df_resultado2 = spark.sql(\"SELECT Genre, COUNT(*) as num_customers FROM clientes_temp GROUP BY Genre\")\n",
    "df_resultado3 = spark.sql(\"SELECT * FROM clientes_temp WHERE CAST(`Spending Score (1-100)` AS INT) > 80\")\n",
    "df_resultado4 = spark.sql(\"SELECT MAX(CAST(`Annual Income (k$)` AS INT)) as max_income FROM clientes_temp\")\n",
    "\n",
    "df_resultado1.write.parquet(\"/dbfs/FileStore/resultados/primeras_10_parquet\")\n",
    "df_resultado2.write.parquet(\"/dbfs/FileStore/resultados/genero_clientes_parquet\")\n",
    "df_resultado3.write.parquet(\"/dbfs/FileStore/resultados/puntaje_mayorA_80_parquet\")\n",
    "df_resultado4.write.parquet(\"/dbfs/FileStore/resultados/ingreso_max_parquet\")"
   ]
  }
 ],
 "metadata": {
  "application/vnd.databricks.v1+notebook": {
   "dashboards": [],
   "environmentMetadata": null,
   "language": "python",
   "notebookMetadata": {
    "mostRecentlyExecutedCommandWithImplicitDF": {
     "commandId": 760377667624334,
     "dataframes": [
      "_sqldf"
     ]
    },
    "pythonIndentUnit": 4
   },
   "notebookName": "Práctica 4 Notebook 2024-10-19 17:47:31",
   "widgets": {}
  }
 },
 "nbformat": 4,
 "nbformat_minor": 0
}
